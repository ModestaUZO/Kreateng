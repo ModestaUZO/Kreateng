{
 "cells": [
  {
   "cell_type": "markdown",
   "id": "34641128",
   "metadata": {},
   "source": [
    "# Analyzing Customers' income, spending and saving adequacy using predictive analyses and models"
   ]
  },
  {
   "cell_type": "markdown",
   "id": "c35bf993",
   "metadata": {},
   "source": [
    "## Abstract\n",
    "\n",
    "### Predictive analytics is a branch of data analytics that uses techniques like big data mining, statistics, modeling, machine learning and artificial intelligence to analyze data and make predictions. This project proposes statistical and  machine-learning models that can predict individuals' savings adequacy. Banks and Fintech companies are using advanced technology to build websites, digital advertising and other contents more efficiently and effectively. Considering the necessity to keep up with the competition, data science has become a tool to enhance the business in the Fintech industry. In the project, algorithms were developed to analyze the trends in the spending behaviours and preditive analysis and recommendations were given.\n",
    "\n",
    "\n",
    "\n",
    "\n",
    "\n",
    "\n",
    "\n",
    "\n",
    "\n",
    "\n",
    "\n",
    "\n",
    "\n",
    "## About the Dataset\n",
    "\n",
    "### This dataset offers a unique insight into the spending habits of customers, with detailed information on customers' names, gender, monthly income and expenditure.\n",
    "\n",
    "\n"
   ]
  },
  {
   "cell_type": "code",
   "execution_count": 1,
   "id": "9df140c1",
   "metadata": {},
   "outputs": [
    {
     "data": {
      "text/html": [
       "        <script type=\"text/javascript\">\n",
       "        window.PlotlyConfig = {MathJaxConfig: 'local'};\n",
       "        if (window.MathJax && window.MathJax.Hub && window.MathJax.Hub.Config) {window.MathJax.Hub.Config({SVG: {font: \"STIX-Web\"}});}\n",
       "        if (typeof require !== 'undefined') {\n",
       "        require.undef(\"plotly\");\n",
       "        requirejs.config({\n",
       "            paths: {\n",
       "                'plotly': ['https://cdn.plot.ly/plotly-2.12.1.min']\n",
       "            }\n",
       "        });\n",
       "        require(['plotly'], function(Plotly) {\n",
       "            window._Plotly = Plotly;\n",
       "        });\n",
       "        }\n",
       "        </script>\n",
       "        "
      ]
     },
     "metadata": {},
     "output_type": "display_data"
    }
   ],
   "source": [
    "# Analysis\n",
    "import numpy as np # linear algebra\n",
    "import pandas as pd # data processing, CSV file I/O (e.g. pd.read_csv)\n",
    "import matplotlib.pyplot as plt \n",
    "import seaborn as sns \n",
    "import plotly as py\n",
    "import plotly.graph_objs as go\n",
    "\n",
    "#Algorithms\n",
    "from sklearn.cluster import KMeans\n",
    "from sklearn.model_selection import train_test_split\n",
    "from sklearn.metrics import confusion_matrix, classification_report\n",
    "from sklearn.preprocessing import LabelEncoder\n",
    "from sklearn.preprocessing import StandardScaler\n",
    "from sklearn.naive_bayes import GaussianNB\n",
    "\n",
    "import warnings\n",
    "import os\n",
    "warnings.filterwarnings(\"ignore\")\n",
    "py.offline.init_notebook_mode(connected = True)\n",
    "#print(os.listdir(\"../input\"))"
   ]
  },
  {
   "cell_type": "markdown",
   "id": "4449e582",
   "metadata": {},
   "source": [
    "### Data Wrangling"
   ]
  },
  {
   "cell_type": "code",
   "execution_count": 36,
   "id": "289cacb4",
   "metadata": {},
   "outputs": [],
   "source": [
    "df = pd.read_excel(r'C:\\Users\\user\\Documents\\data analysis\\customers_data.xlsx')"
   ]
  },
  {
   "cell_type": "code",
   "execution_count": 44,
   "id": "e758a212",
   "metadata": {},
   "outputs": [
    {
     "data": {
      "text/html": [
       "<div>\n",
       "<style scoped>\n",
       "    .dataframe tbody tr th:only-of-type {\n",
       "        vertical-align: middle;\n",
       "    }\n",
       "\n",
       "    .dataframe tbody tr th {\n",
       "        vertical-align: top;\n",
       "    }\n",
       "\n",
       "    .dataframe thead th {\n",
       "        text-align: right;\n",
       "    }\n",
       "</style>\n",
       "<table border=\"1\" class=\"dataframe\">\n",
       "  <thead>\n",
       "    <tr style=\"text-align: right;\">\n",
       "      <th></th>\n",
       "      <th>Employee ID</th>\n",
       "      <th>First Name</th>\n",
       "      <th>Last Name</th>\n",
       "      <th>Monthly Income</th>\n",
       "      <th>Gender</th>\n",
       "      <th>Monthy Expenditure</th>\n",
       "    </tr>\n",
       "  </thead>\n",
       "  <tbody>\n",
       "    <tr>\n",
       "      <th>0</th>\n",
       "      <td>E02002</td>\n",
       "      <td>Kai</td>\n",
       "      <td>Le</td>\n",
       "      <td>4141</td>\n",
       "      <td>Male</td>\n",
       "      <td>7265</td>\n",
       "    </tr>\n",
       "    <tr>\n",
       "      <th>1</th>\n",
       "      <td>E02003</td>\n",
       "      <td>Robert</td>\n",
       "      <td>Patel</td>\n",
       "      <td>8639</td>\n",
       "      <td>Male</td>\n",
       "      <td>8291</td>\n",
       "    </tr>\n",
       "    <tr>\n",
       "      <th>2</th>\n",
       "      <td>E02004</td>\n",
       "      <td>Cameron</td>\n",
       "      <td>Lo</td>\n",
       "      <td>8581</td>\n",
       "      <td>Male</td>\n",
       "      <td>4828</td>\n",
       "    </tr>\n",
       "    <tr>\n",
       "      <th>3</th>\n",
       "      <td>E02005</td>\n",
       "      <td>Harper</td>\n",
       "      <td>Castillo</td>\n",
       "      <td>6734</td>\n",
       "      <td>Female</td>\n",
       "      <td>4632</td>\n",
       "    </tr>\n",
       "    <tr>\n",
       "      <th>4</th>\n",
       "      <td>E02006</td>\n",
       "      <td>Harper</td>\n",
       "      <td>Dominguez</td>\n",
       "      <td>5243</td>\n",
       "      <td>Female</td>\n",
       "      <td>4677</td>\n",
       "    </tr>\n",
       "    <tr>\n",
       "      <th>5</th>\n",
       "      <td>E02007</td>\n",
       "      <td>Ezra</td>\n",
       "      <td>Vu</td>\n",
       "      <td>8328</td>\n",
       "      <td>Male</td>\n",
       "      <td>5326</td>\n",
       "    </tr>\n",
       "    <tr>\n",
       "      <th>6</th>\n",
       "      <td>E02008</td>\n",
       "      <td>Jade</td>\n",
       "      <td>Hu</td>\n",
       "      <td>7624</td>\n",
       "      <td>Female</td>\n",
       "      <td>4326</td>\n",
       "    </tr>\n",
       "    <tr>\n",
       "      <th>7</th>\n",
       "      <td>E02009</td>\n",
       "      <td>Miles</td>\n",
       "      <td>Chang</td>\n",
       "      <td>9381</td>\n",
       "      <td>Male</td>\n",
       "      <td>7912</td>\n",
       "    </tr>\n",
       "    <tr>\n",
       "      <th>8</th>\n",
       "      <td>E02010</td>\n",
       "      <td>Gianna</td>\n",
       "      <td>Holmes</td>\n",
       "      <td>6411</td>\n",
       "      <td>Female</td>\n",
       "      <td>5560</td>\n",
       "    </tr>\n",
       "    <tr>\n",
       "      <th>9</th>\n",
       "      <td>E02011</td>\n",
       "      <td>Jameson</td>\n",
       "      <td>Thomas</td>\n",
       "      <td>5222</td>\n",
       "      <td>Male</td>\n",
       "      <td>4869</td>\n",
       "    </tr>\n",
       "  </tbody>\n",
       "</table>\n",
       "</div>"
      ],
      "text/plain": [
       "  Employee ID First Name  Last Name  Monthly Income  Gender  \\\n",
       "0      E02002        Kai         Le            4141    Male   \n",
       "1      E02003     Robert      Patel            8639    Male   \n",
       "2      E02004    Cameron         Lo            8581    Male   \n",
       "3      E02005     Harper   Castillo            6734  Female   \n",
       "4      E02006     Harper  Dominguez            5243  Female   \n",
       "5      E02007       Ezra         Vu            8328    Male   \n",
       "6      E02008       Jade         Hu            7624  Female   \n",
       "7      E02009      Miles      Chang            9381    Male   \n",
       "8      E02010     Gianna     Holmes            6411  Female   \n",
       "9      E02011    Jameson     Thomas            5222    Male   \n",
       "\n",
       "   Monthy Expenditure  \n",
       "0                7265  \n",
       "1                8291  \n",
       "2                4828  \n",
       "3                4632  \n",
       "4                4677  \n",
       "5                5326  \n",
       "6                4326  \n",
       "7                7912  \n",
       "8                5560  \n",
       "9                4869  "
      ]
     },
     "execution_count": 44,
     "metadata": {},
     "output_type": "execute_result"
    }
   ],
   "source": [
    "df.head(10)"
   ]
  },
  {
   "cell_type": "markdown",
   "id": "7c929b81",
   "metadata": {},
   "source": [
    "#### Note that; the Monthly Income and Expenditure are in $"
   ]
  },
  {
   "cell_type": "code",
   "execution_count": 6,
   "id": "de228f52",
   "metadata": {},
   "outputs": [
    {
     "data": {
      "text/plain": [
       "(1000, 6)"
      ]
     },
     "execution_count": 6,
     "metadata": {},
     "output_type": "execute_result"
    }
   ],
   "source": [
    "df.shape"
   ]
  },
  {
   "cell_type": "code",
   "execution_count": 7,
   "id": "df613d36",
   "metadata": {},
   "outputs": [
    {
     "name": "stdout",
     "output_type": "stream",
     "text": [
      "<class 'pandas.core.frame.DataFrame'>\n",
      "RangeIndex: 1000 entries, 0 to 999\n",
      "Data columns (total 6 columns):\n",
      " #   Column              Non-Null Count  Dtype \n",
      "---  ------              --------------  ----- \n",
      " 0   Employee ID         1000 non-null   object\n",
      " 1   First Name          1000 non-null   object\n",
      " 2   Last Name           1000 non-null   object\n",
      " 3   Monthly Income      1000 non-null   int64 \n",
      " 4   Gender              1000 non-null   object\n",
      " 5   Monthy Expenditure  1000 non-null   int64 \n",
      "dtypes: int64(2), object(4)\n",
      "memory usage: 47.0+ KB\n"
     ]
    }
   ],
   "source": [
    "df.info()"
   ]
  },
  {
   "cell_type": "code",
   "execution_count": 63,
   "id": "bc5d5fdb",
   "metadata": {},
   "outputs": [
    {
     "data": {
      "text/plain": [
       "0"
      ]
     },
     "execution_count": 63,
     "metadata": {},
     "output_type": "execute_result"
    }
   ],
   "source": [
    "df.duplicated().sum()  # check for duplication"
   ]
  },
  {
   "cell_type": "code",
   "execution_count": 64,
   "id": "30f9d512",
   "metadata": {},
   "outputs": [
    {
     "data": {
      "text/plain": [
       "Employee ID           0\n",
       "First Name            0\n",
       "Last Name             0\n",
       "Monthly Income        0\n",
       "Gender                0\n",
       "Monthy Expenditure    0\n",
       "dtype: int64"
      ]
     },
     "execution_count": 64,
     "metadata": {},
     "output_type": "execute_result"
    }
   ],
   "source": [
    "df.isnull().sum()"
   ]
  },
  {
   "cell_type": "markdown",
   "id": "646179f8",
   "metadata": {},
   "source": [
    "### Perform EDA (Exploratory Data Analysis)"
   ]
  },
  {
   "cell_type": "code",
   "execution_count": 66,
   "id": "b8098a99",
   "metadata": {},
   "outputs": [
    {
     "data": {
      "text/html": [
       "<div>\n",
       "<style scoped>\n",
       "    .dataframe tbody tr th:only-of-type {\n",
       "        vertical-align: middle;\n",
       "    }\n",
       "\n",
       "    .dataframe tbody tr th {\n",
       "        vertical-align: top;\n",
       "    }\n",
       "\n",
       "    .dataframe thead th {\n",
       "        text-align: right;\n",
       "    }\n",
       "</style>\n",
       "<table border=\"1\" class=\"dataframe\">\n",
       "  <thead>\n",
       "    <tr style=\"text-align: right;\">\n",
       "      <th></th>\n",
       "      <th>Monthly Income</th>\n",
       "      <th>Monthy Expenditure</th>\n",
       "    </tr>\n",
       "  </thead>\n",
       "  <tbody>\n",
       "    <tr>\n",
       "      <th>count</th>\n",
       "      <td>1000.000000</td>\n",
       "      <td>1000.000000</td>\n",
       "    </tr>\n",
       "    <tr>\n",
       "      <th>mean</th>\n",
       "      <td>6840.382000</td>\n",
       "      <td>6284.830000</td>\n",
       "    </tr>\n",
       "    <tr>\n",
       "      <th>std</th>\n",
       "      <td>1621.293544</td>\n",
       "      <td>1218.885025</td>\n",
       "    </tr>\n",
       "    <tr>\n",
       "      <th>min</th>\n",
       "      <td>4103.000000</td>\n",
       "      <td>4103.000000</td>\n",
       "    </tr>\n",
       "    <tr>\n",
       "      <th>25%</th>\n",
       "      <td>5435.000000</td>\n",
       "      <td>5251.000000</td>\n",
       "    </tr>\n",
       "    <tr>\n",
       "      <th>50%</th>\n",
       "      <td>6823.500000</td>\n",
       "      <td>6282.500000</td>\n",
       "    </tr>\n",
       "    <tr>\n",
       "      <th>75%</th>\n",
       "      <td>8303.500000</td>\n",
       "      <td>7343.000000</td>\n",
       "    </tr>\n",
       "    <tr>\n",
       "      <th>max</th>\n",
       "      <td>9498.000000</td>\n",
       "      <td>8399.000000</td>\n",
       "    </tr>\n",
       "  </tbody>\n",
       "</table>\n",
       "</div>"
      ],
      "text/plain": [
       "       Monthly Income  Monthy Expenditure\n",
       "count     1000.000000         1000.000000\n",
       "mean      6840.382000         6284.830000\n",
       "std       1621.293544         1218.885025\n",
       "min       4103.000000         4103.000000\n",
       "25%       5435.000000         5251.000000\n",
       "50%       6823.500000         6282.500000\n",
       "75%       8303.500000         7343.000000\n",
       "max       9498.000000         8399.000000"
      ]
     },
     "execution_count": 66,
     "metadata": {},
     "output_type": "execute_result"
    }
   ],
   "source": [
    "df.describe()"
   ]
  },
  {
   "cell_type": "code",
   "execution_count": 68,
   "id": "a3204b12",
   "metadata": {},
   "outputs": [
    {
     "data": {
      "text/html": [
       "<div>\n",
       "<style scoped>\n",
       "    .dataframe tbody tr th:only-of-type {\n",
       "        vertical-align: middle;\n",
       "    }\n",
       "\n",
       "    .dataframe tbody tr th {\n",
       "        vertical-align: top;\n",
       "    }\n",
       "\n",
       "    .dataframe thead th {\n",
       "        text-align: right;\n",
       "    }\n",
       "</style>\n",
       "<table border=\"1\" class=\"dataframe\">\n",
       "  <thead>\n",
       "    <tr style=\"text-align: right;\">\n",
       "      <th></th>\n",
       "      <th>Employee ID</th>\n",
       "      <th>First Name</th>\n",
       "      <th>Last Name</th>\n",
       "      <th>Gender</th>\n",
       "    </tr>\n",
       "  </thead>\n",
       "  <tbody>\n",
       "    <tr>\n",
       "      <th>count</th>\n",
       "      <td>1000</td>\n",
       "      <td>1000</td>\n",
       "      <td>1000</td>\n",
       "      <td>1000</td>\n",
       "    </tr>\n",
       "    <tr>\n",
       "      <th>unique</th>\n",
       "      <td>1000</td>\n",
       "      <td>212</td>\n",
       "      <td>259</td>\n",
       "      <td>2</td>\n",
       "    </tr>\n",
       "    <tr>\n",
       "      <th>top</th>\n",
       "      <td>E02002</td>\n",
       "      <td>Christopher</td>\n",
       "      <td>Cruz</td>\n",
       "      <td>Female</td>\n",
       "    </tr>\n",
       "    <tr>\n",
       "      <th>freq</th>\n",
       "      <td>1</td>\n",
       "      <td>14</td>\n",
       "      <td>13</td>\n",
       "      <td>515</td>\n",
       "    </tr>\n",
       "  </tbody>\n",
       "</table>\n",
       "</div>"
      ],
      "text/plain": [
       "       Employee ID   First Name Last Name  Gender\n",
       "count         1000         1000      1000    1000\n",
       "unique        1000          212       259       2\n",
       "top         E02002  Christopher      Cruz  Female\n",
       "freq             1           14        13     515"
      ]
     },
     "execution_count": 68,
     "metadata": {},
     "output_type": "execute_result"
    }
   ],
   "source": [
    "df.describe(include=['O'])"
   ]
  },
  {
   "cell_type": "code",
   "execution_count": 8,
   "id": "afb0ea83",
   "metadata": {},
   "outputs": [
    {
     "data": {
      "image/png": "[encoded data removed]",
      "text/plain": [
       "<Figure size 1600x1200 with 2 Axes>"
      ]
     },
     "metadata": {},
     "output_type": "display_data"
    }
   ],
   "source": [
    "# Monthly Income and Monthly Expenditure\n",
    "plt.figure(figsize=(16,12), facecolor= '#9DF08E')\n",
    "\n",
    "#monthly income\n",
    "\n",
    "plt.subplot(3,3,1)\n",
    "plt.title('Monthly Income\\n', color='#FF000B')\n",
    "sns.distplot(df['Monthly Income'], color='orange')\n",
    "\n",
    "\n",
    "#monthly expenditure\n",
    "\n",
    "plt.subplot(3,3,2)\n",
    "plt.title('Monthy Expenditure\\n', color='#FF000B')\n",
    "sns.distplot(df['Monthy Expenditure'], color='#577AFF')\n",
    "\n",
    "plt.suptitle ('Distribution Plots\\n', color='#0000C1', size=30)\n",
    "plt.tight_layout()\n"
   ]
  },
  {
   "cell_type": "code",
   "execution_count": 11,
   "id": "fbcffba4",
   "metadata": {},
   "outputs": [
    {
     "data": {
      "image/png": "[encoded data removed]",
      "text/plain": [
       "<Figure size 640x480 with 1 Axes>"
      ]
     },
     "metadata": {},
     "output_type": "display_data"
    }
   ],
   "source": [
    "# Male vs Female\n",
    "sns.countplot(x='Gender', data=df, palette='Blues' );"
   ]
  },
  {
   "cell_type": "markdown",
   "id": "0a1fe223",
   "metadata": {},
   "source": [
    "#### A total number of 485 males and 515 Females"
   ]
  },
  {
   "cell_type": "markdown",
   "id": "688dc5f0",
   "metadata": {},
   "source": [
    "## Modeling"
   ]
  },
  {
   "cell_type": "code",
   "execution_count": 16,
   "id": "9730674d",
   "metadata": {},
   "outputs": [
    {
     "data": {
      "text/html": [
       "<div>\n",
       "<style scoped>\n",
       "    .dataframe tbody tr th:only-of-type {\n",
       "        vertical-align: middle;\n",
       "    }\n",
       "\n",
       "    .dataframe tbody tr th {\n",
       "        vertical-align: top;\n",
       "    }\n",
       "\n",
       "    .dataframe thead th {\n",
       "        text-align: right;\n",
       "    }\n",
       "</style>\n",
       "<table border=\"1\" class=\"dataframe\">\n",
       "  <thead>\n",
       "    <tr style=\"text-align: right;\">\n",
       "      <th></th>\n",
       "      <th>Employee ID</th>\n",
       "      <th>First Name</th>\n",
       "      <th>Last Name</th>\n",
       "      <th>Monthly Income</th>\n",
       "      <th>Gender</th>\n",
       "      <th>Monthy Expenditure</th>\n",
       "    </tr>\n",
       "  </thead>\n",
       "  <tbody>\n",
       "    <tr>\n",
       "      <th>0</th>\n",
       "      <td>0</td>\n",
       "      <td>121</td>\n",
       "      <td>124</td>\n",
       "      <td>4141</td>\n",
       "      <td>1</td>\n",
       "      <td>7265</td>\n",
       "    </tr>\n",
       "    <tr>\n",
       "      <th>1</th>\n",
       "      <td>1</td>\n",
       "      <td>179</td>\n",
       "      <td>171</td>\n",
       "      <td>8639</td>\n",
       "      <td>1</td>\n",
       "      <td>8291</td>\n",
       "    </tr>\n",
       "    <tr>\n",
       "      <th>2</th>\n",
       "      <td>2</td>\n",
       "      <td>33</td>\n",
       "      <td>133</td>\n",
       "      <td>8581</td>\n",
       "      <td>1</td>\n",
       "      <td>4828</td>\n",
       "    </tr>\n",
       "    <tr>\n",
       "      <th>3</th>\n",
       "      <td>3</td>\n",
       "      <td>88</td>\n",
       "      <td>26</td>\n",
       "      <td>6734</td>\n",
       "      <td>0</td>\n",
       "      <td>4632</td>\n",
       "    </tr>\n",
       "    <tr>\n",
       "      <th>4</th>\n",
       "      <td>4</td>\n",
       "      <td>88</td>\n",
       "      <td>58</td>\n",
       "      <td>5243</td>\n",
       "      <td>0</td>\n",
       "      <td>4677</td>\n",
       "    </tr>\n",
       "  </tbody>\n",
       "</table>\n",
       "</div>"
      ],
      "text/plain": [
       "   Employee ID  First Name  Last Name  Monthly Income  Gender  \\\n",
       "0            0         121        124            4141       1   \n",
       "1            1         179        171            8639       1   \n",
       "2            2          33        133            8581       1   \n",
       "3            3          88         26            6734       0   \n",
       "4            4          88         58            5243       0   \n",
       "\n",
       "   Monthy Expenditure  \n",
       "0                7265  \n",
       "1                8291  \n",
       "2                4828  \n",
       "3                4632  \n",
       "4                4677  "
      ]
     },
     "execution_count": 16,
     "metadata": {},
     "output_type": "execute_result"
    }
   ],
   "source": [
    "# c0nverting columns that have object data to numeric\n",
    "\n",
    "lis=['Employee ID', 'First Name', 'Last Name', 'Gender']\n",
    "le=LabelEncoder()\n",
    "for column in lis:\n",
    "    df[column]=le.fit_transform(df[column])\n",
    "    \n",
    "df.head()"
   ]
  },
  {
   "cell_type": "markdown",
   "id": "ec0e434a",
   "metadata": {},
   "source": [
    "### note that; male is 1 and Female is 0"
   ]
  },
  {
   "cell_type": "code",
   "execution_count": 19,
   "id": "2d18ebd1",
   "metadata": {},
   "outputs": [
    {
     "data": {
      "text/plain": [
       "((1000, 5), (1000,))"
      ]
     },
     "execution_count": 19,
     "metadata": {},
     "output_type": "execute_result"
    }
   ],
   "source": [
    "x = df.drop(columns=['Employee ID'])\n",
    "Y = df['Employee ID']\n",
    "x.shape, Y.shape"
   ]
  },
  {
   "cell_type": "code",
   "execution_count": 21,
   "id": "a6e02210",
   "metadata": {},
   "outputs": [
    {
     "data": {
      "text/plain": [
       "array([[ 0.26237443, -0.03133116, -1.66578885,  1.03046381,  0.80455534],\n",
       "       [ 1.24460621,  0.60067072,  1.10992731,  1.03046381,  1.64672943],\n",
       "       [-1.22790827,  0.08969048,  1.07413551,  1.03046381, -1.19581333]])"
      ]
     },
     "execution_count": 21,
     "metadata": {},
     "output_type": "execute_result"
    }
   ],
   "source": [
    "x=StandardScaler().fit_transform(x)\n",
    "x[:3]"
   ]
  },
  {
   "cell_type": "code",
   "execution_count": 28,
   "id": "512e1f6a",
   "metadata": {},
   "outputs": [
    {
     "data": {
      "text/plain": [
       "((700, 2), (300, 2), (700,), (300,))"
      ]
     },
     "execution_count": 28,
     "metadata": {},
     "output_type": "execute_result"
    }
   ],
   "source": [
    "x_train, x_test, y_train, y_test = train_test_split(x, Y, test_size=0.30, random_state=44, shuffle = True)\n",
    "x_train.shape, x_test.shape, y_train.shape, y_test.shape"
   ]
  },
  {
   "cell_type": "code",
   "execution_count": 42,
   "id": "890274fa",
   "metadata": {},
   "outputs": [
    {
     "data": {
      "text/plain": [
       "(1.0, 0.0)"
      ]
     },
     "execution_count": 42,
     "metadata": {},
     "output_type": "execute_result"
    }
   ],
   "source": [
    "NV=GaussianNB()\n",
    "NV.fit(x_train, y_train)\n",
    "NV.score(x_train,y_train),NV.score(x_test, y_test)"
   ]
  },
  {
   "cell_type": "markdown",
   "id": "a52ddcbf",
   "metadata": {},
   "source": [
    "## Recommendations"
   ]
  },
  {
   "cell_type": "markdown",
   "id": "a48d4926",
   "metadata": {},
   "source": [
    "### 1. Customers do not have a good saving pattern. As they earn, they make expenses; some more than their monthly income. I would suggest nurturing a savings support network. Research by MaPS identified 11.1 million working-age adults on low-to-modest incomes who do not save regularly. This prompted the creation of the Nation of Savers initiative, which sets out to encourage more people into the habit of saving regularly by 2030.\n",
    "\n",
    "### 2. Using digital tools- Digital banks should provide features that help users keep track of their income and expenses, and even help people to save - even if the amount being put aside is small. These tools include; \n",
    "\n",
    "###     ->spending trackers and budgeting tools: By providing regular spending reports, consumers can see their spending broken down into categories. Some companies even allow users to set a limit for each category, preventing them from going over budget on certain expenses.\n",
    "\n",
    "###     ->Automated savings: With automated savings,consumers can set up for a certain amount to be stashed away every month automatically without having to do it by themselves.\n",
    "\n",
    "\n",
    "\n",
    "\n"
   ]
  },
  {
   "cell_type": "markdown",
   "id": "370b5eaa",
   "metadata": {},
   "source": [
    "## Conclusion\n",
    "\n",
    "### In today's world, financial situations can be unpredictable, but there are always ways to secure yourself. It has already been mentioned that predictive analytics in the finance industry can give a new perspective on financial processes and situations. Financial Technology companies should ensure their customers are aware of the existence of these important digital tools. Even if they would not save money immediately, they'd be able to use the digital tools to keep track of their spending."
   ]
  }
 ],
 "metadata": {
  "kernelspec": {
   "display_name": "Python 3 (ipykernel)",
   "language": "python",
   "name": "python3"
  },
  "language_info": {
   "codemirror_mode": {
    "name": "ipython",
    "version": 3
   },
   "file_extension": ".py",
   "mimetype": "text/x-python",
   "name": "python",
   "nbconvert_exporter": "python",
   "pygments_lexer": "ipython3",
   "version": "3.9.13"
  }
 },
 "nbformat": 4,
 "nbformat_minor": 5
}
